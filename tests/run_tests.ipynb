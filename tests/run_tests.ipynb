{
 "cells": [
  {
   "cell_type": "code",
   "execution_count": 1,
   "metadata": {},
   "outputs": [],
   "source": [
    "%load_ext autoreload\n",
    "%autoreload 2"
   ]
  },
  {
   "cell_type": "markdown",
   "metadata": {},
   "source": [
    "## unittests\n",
    "\n",
    "Examples:\n",
    "```\n",
    "self.assertEqual('foo'.upper(), 'FOO')\n",
    "self.assertAlmostEqual(func(input), correct_return, \"Note\")\n",
    "self.assertRaises(ErrorType, func, inputs)\n",
    "self.assertTrue('FOO'.isupper())\n",
    "self.assertFalse('Foo'.isupper())\n",
    "```\n",
    "Full docs: https://docs.python.org/3/library/unittest.html\n",
    "```\n",
    "assertEqual(a, b)           a == b\n",
    "assertNotEqual(a, b)        a != b\n",
    "assertTrue(x)               bool(x) is True\n",
    "assertFalse(x)              bool(x) is False\n",
    "assertIs(a, b)              a is b\n",
    "assertIsNot(a, b)           a is not b\n",
    "assertIsNone(x              x is None\n",
    "assertIsNotNone(x)          x is not None\n",
    "assertIn(a, b)              a in b\n",
    "assertNotIn(a, b)           a not in b\n",
    "assertIsInstance(a, b)      isinstance(a, b)\n",
    "assertNotIsInstance(a, b)   not isinstance(a, b)\n",
    "\n",
    "assertRaises(exc, fun, *args, **kwds)   fun(*args, **kwds) raises exc\n",
    "assertWarns(warn, fun, *args, **kwds)   fun(*args, **kwds) raises warn\n",
    "\n",
    "assertAlmostEqual(a, b)         round(a-b, 7) == 0\n",
    "assertNotAlmostEqual(a, b)      round(a-b, 7) != 0\n",
    "assertGreater(a, b)             a > b\n",
    "assertGreaterEqual(a, b)        a >= b\n",
    "assertLess(a, b)                a < b\n",
    "assertLessEqual(a, b)           a <= b\n",
    "```"
   ]
  },
  {
   "cell_type": "code",
   "execution_count": 40,
   "metadata": {},
   "outputs": [
    {
     "name": "stderr",
     "output_type": "stream",
     "text": [
      "............\n",
      "----------------------------------------------------------------------\n",
      "Ran 12 tests in 0.035s\n",
      "\n",
      "OK\n"
     ]
    }
   ],
   "source": [
    "%run -m unittest test_util_funcs.py"
   ]
  }
 ],
 "metadata": {
  "kernelspec": {
   "display_name": "seghub_env",
   "language": "python",
   "name": "python3"
  },
  "language_info": {
   "codemirror_mode": {
    "name": "ipython",
    "version": 3
   },
   "file_extension": ".py",
   "mimetype": "text/x-python",
   "name": "python",
   "nbconvert_exporter": "python",
   "pygments_lexer": "ipython3",
   "version": "3.9.19"
  }
 },
 "nbformat": 4,
 "nbformat_minor": 2
}
