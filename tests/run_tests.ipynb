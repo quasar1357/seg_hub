{
 "cells": [
  {
   "cell_type": "code",
   "execution_count": 6,
   "metadata": {},
   "outputs": [
    {
     "name": "stdout",
     "output_type": "stream",
     "text": [
      "The autoreload extension is already loaded. To reload it, use:\n",
      "  %reload_ext autoreload\n"
     ]
    }
   ],
   "source": [
    "%load_ext autoreload\n",
    "%autoreload 2"
   ]
  },
  {
   "cell_type": "markdown",
   "metadata": {},
   "source": [
    "## unittests\n",
    "\n",
    "Examples:\n",
    "```\n",
    "self.assertEqual('foo'.upper(), 'FOO')\n",
    "self.assertAlmostEqual(func(input), correct_return, \"Note\")\n",
    "self.assertRaises(ErrorType, func, inputs)\n",
    "self.assertTrue('FOO'.isupper())\n",
    "self.assertFalse('Foo'.isupper())\n",
    "```\n",
    "Full docs: https://docs.python.org/3/library/unittest.html\n",
    "```\n",
    "assertEqual(a, b)           a == b\n",
    "assertNotEqual(a, b)        a != b\n",
    "assertTrue(x)               bool(x) is True\n",
    "assertFalse(x)              bool(x) is False\n",
    "assertIs(a, b)              a is b\n",
    "assertIsNot(a, b)           a is not b\n",
    "assertIsNone(x              x is None\n",
    "assertIsNotNone(x)          x is not None\n",
    "assertIn(a, b)              a in b\n",
    "assertNotIn(a, b)           a not in b\n",
    "assertIsInstance(a, b)      isinstance(a, b)\n",
    "assertNotIsInstance(a, b)   not isinstance(a, b)\n",
    "\n",
    "assertRaises(exc, fun, *args, **kwds)   fun(*args, **kwds) raises exc\n",
    "assertWarns(warn, fun, *args, **kwds)   fun(*args, **kwds) raises warn\n",
    "\n",
    "assertAlmostEqual(a, b)         round(a-b, 7) == 0\n",
    "assertNotAlmostEqual(a, b)      round(a-b, 7) != 0\n",
    "assertGreater(a, b)             a > b\n",
    "assertGreaterEqual(a, b)        a >= b\n",
    "assertLess(a, b)                a < b\n",
    "assertLessEqual(a, b)           a <= b\n",
    "```"
   ]
  },
  {
   "cell_type": "code",
   "execution_count": 7,
   "metadata": {},
   "outputs": [
    {
     "name": "stderr",
     "output_type": "stream",
     "text": [
      "F\n",
      "======================================================================\n",
      "FAIL: test_test_img_labels_batch_shapes (test_util_funcs.TestUtilFuncs)\n",
      "----------------------------------------------------------------------\n",
      "Traceback (most recent call last):\n",
      "  File \"d:\\Documents\\Beruf & Ausbildung\\Ausbildung\\22-08 MSc BioInf\\24FS_Master Thesis\\02_seghub\\tests\\test_util_funcs.py\", line 12, in test_test_img_labels_batch_shapes\n",
      "    self.assertRaises(ValueError, test_img_labels_batch_shapes, [np.array((480, 640))], [np.array((640, 480))])\n",
      "AssertionError: ValueError not raised by test_img_labels_batch_shapes\n",
      "\n",
      "----------------------------------------------------------------------\n",
      "Ran 1 test in 0.002s\n",
      "\n",
      "FAILED (failures=1)\n"
     ]
    },
    {
     "ename": "SystemExit",
     "evalue": "True",
     "output_type": "error",
     "traceback": [
      "\u001b[1;31m---------------------------------------------------------------------------\u001b[0m",
      "\u001b[1;31mSystemExit\u001b[0m                                Traceback (most recent call last)",
      "File \u001b[1;32mc:\\Users\\roman\\anaconda3\\envs\\seghub_env\\lib\\runpy.py:225\u001b[0m, in \u001b[0;36mrun_module\u001b[1;34m(mod_name, init_globals, run_name, alter_sys)\u001b[0m\n\u001b[0;32m    223\u001b[0m     run_name \u001b[38;5;241m=\u001b[39m mod_name\n\u001b[0;32m    224\u001b[0m \u001b[38;5;28;01mif\u001b[39;00m alter_sys:\n\u001b[1;32m--> 225\u001b[0m     \u001b[38;5;28;01mreturn\u001b[39;00m \u001b[43m_run_module_code\u001b[49m\u001b[43m(\u001b[49m\u001b[43mcode\u001b[49m\u001b[43m,\u001b[49m\u001b[43m \u001b[49m\u001b[43minit_globals\u001b[49m\u001b[43m,\u001b[49m\u001b[43m \u001b[49m\u001b[43mrun_name\u001b[49m\u001b[43m,\u001b[49m\u001b[43m \u001b[49m\u001b[43mmod_spec\u001b[49m\u001b[43m)\u001b[49m\n\u001b[0;32m    226\u001b[0m \u001b[38;5;28;01melse\u001b[39;00m:\n\u001b[0;32m    227\u001b[0m     \u001b[38;5;66;03m# Leave the sys module alone\u001b[39;00m\n\u001b[0;32m    228\u001b[0m     \u001b[38;5;28;01mreturn\u001b[39;00m _run_code(code, {}, init_globals, run_name, mod_spec)\n",
      "File \u001b[1;32mc:\\Users\\roman\\anaconda3\\envs\\seghub_env\\lib\\runpy.py:97\u001b[0m, in \u001b[0;36m_run_module_code\u001b[1;34m(code, init_globals, mod_name, mod_spec, pkg_name, script_name)\u001b[0m\n\u001b[0;32m     95\u001b[0m \u001b[38;5;28;01mwith\u001b[39;00m _TempModule(mod_name) \u001b[38;5;28;01mas\u001b[39;00m temp_module, _ModifiedArgv0(fname):\n\u001b[0;32m     96\u001b[0m     mod_globals \u001b[38;5;241m=\u001b[39m temp_module\u001b[38;5;241m.\u001b[39mmodule\u001b[38;5;241m.\u001b[39m\u001b[38;5;18m__dict__\u001b[39m\n\u001b[1;32m---> 97\u001b[0m     \u001b[43m_run_code\u001b[49m\u001b[43m(\u001b[49m\u001b[43mcode\u001b[49m\u001b[43m,\u001b[49m\u001b[43m \u001b[49m\u001b[43mmod_globals\u001b[49m\u001b[43m,\u001b[49m\u001b[43m \u001b[49m\u001b[43minit_globals\u001b[49m\u001b[43m,\u001b[49m\n\u001b[0;32m     98\u001b[0m \u001b[43m              \u001b[49m\u001b[43mmod_name\u001b[49m\u001b[43m,\u001b[49m\u001b[43m \u001b[49m\u001b[43mmod_spec\u001b[49m\u001b[43m,\u001b[49m\u001b[43m \u001b[49m\u001b[43mpkg_name\u001b[49m\u001b[43m,\u001b[49m\u001b[43m \u001b[49m\u001b[43mscript_name\u001b[49m\u001b[43m)\u001b[49m\n\u001b[0;32m     99\u001b[0m \u001b[38;5;66;03m# Copy the globals of the temporary module, as they\u001b[39;00m\n\u001b[0;32m    100\u001b[0m \u001b[38;5;66;03m# may be cleared when the temporary module goes away\u001b[39;00m\n\u001b[0;32m    101\u001b[0m \u001b[38;5;28;01mreturn\u001b[39;00m mod_globals\u001b[38;5;241m.\u001b[39mcopy()\n",
      "File \u001b[1;32mc:\\Users\\roman\\anaconda3\\envs\\seghub_env\\lib\\runpy.py:87\u001b[0m, in \u001b[0;36m_run_code\u001b[1;34m(code, run_globals, init_globals, mod_name, mod_spec, pkg_name, script_name)\u001b[0m\n\u001b[0;32m     79\u001b[0m         pkg_name \u001b[38;5;241m=\u001b[39m mod_spec\u001b[38;5;241m.\u001b[39mparent\n\u001b[0;32m     80\u001b[0m run_globals\u001b[38;5;241m.\u001b[39mupdate(\u001b[38;5;18m__name__\u001b[39m \u001b[38;5;241m=\u001b[39m mod_name,\n\u001b[0;32m     81\u001b[0m                    \u001b[38;5;18m__file__\u001b[39m \u001b[38;5;241m=\u001b[39m fname,\n\u001b[0;32m     82\u001b[0m                    __cached__ \u001b[38;5;241m=\u001b[39m cached,\n\u001b[1;32m   (...)\u001b[0m\n\u001b[0;32m     85\u001b[0m                    __package__ \u001b[38;5;241m=\u001b[39m pkg_name,\n\u001b[0;32m     86\u001b[0m                    __spec__ \u001b[38;5;241m=\u001b[39m mod_spec)\n\u001b[1;32m---> 87\u001b[0m \u001b[43mexec\u001b[49m\u001b[43m(\u001b[49m\u001b[43mcode\u001b[49m\u001b[43m,\u001b[49m\u001b[43m \u001b[49m\u001b[43mrun_globals\u001b[49m\u001b[43m)\u001b[49m\n\u001b[0;32m     88\u001b[0m \u001b[38;5;28;01mreturn\u001b[39;00m run_globals\n",
      "File \u001b[1;32mc:\\Users\\roman\\anaconda3\\envs\\seghub_env\\lib\\unittest\\__main__.py:18\u001b[0m\n\u001b[0;32m     14\u001b[0m __unittest \u001b[38;5;241m=\u001b[39m \u001b[38;5;28;01mTrue\u001b[39;00m\n\u001b[0;32m     16\u001b[0m \u001b[38;5;28;01mfrom\u001b[39;00m \u001b[38;5;21;01m.\u001b[39;00m\u001b[38;5;21;01mmain\u001b[39;00m \u001b[38;5;28;01mimport\u001b[39;00m main\n\u001b[1;32m---> 18\u001b[0m \u001b[43mmain\u001b[49m\u001b[43m(\u001b[49m\u001b[43mmodule\u001b[49m\u001b[38;5;241;43m=\u001b[39;49m\u001b[38;5;28;43;01mNone\u001b[39;49;00m\u001b[43m)\u001b[49m\n",
      "File \u001b[1;32mc:\\Users\\roman\\anaconda3\\envs\\seghub_env\\lib\\unittest\\main.py:101\u001b[0m, in \u001b[0;36mTestProgram.__init__\u001b[1;34m(self, module, defaultTest, argv, testRunner, testLoader, exit, verbosity, failfast, catchbreak, buffer, warnings, tb_locals)\u001b[0m\n\u001b[0;32m     99\u001b[0m \u001b[38;5;28mself\u001b[39m\u001b[38;5;241m.\u001b[39mprogName \u001b[38;5;241m=\u001b[39m os\u001b[38;5;241m.\u001b[39mpath\u001b[38;5;241m.\u001b[39mbasename(argv[\u001b[38;5;241m0\u001b[39m])\n\u001b[0;32m    100\u001b[0m \u001b[38;5;28mself\u001b[39m\u001b[38;5;241m.\u001b[39mparseArgs(argv)\n\u001b[1;32m--> 101\u001b[0m \u001b[38;5;28;43mself\u001b[39;49m\u001b[38;5;241;43m.\u001b[39;49m\u001b[43mrunTests\u001b[49m\u001b[43m(\u001b[49m\u001b[43m)\u001b[49m\n",
      "File \u001b[1;32mc:\\Users\\roman\\anaconda3\\envs\\seghub_env\\lib\\unittest\\main.py:273\u001b[0m, in \u001b[0;36mTestProgram.runTests\u001b[1;34m(self)\u001b[0m\n\u001b[0;32m    271\u001b[0m \u001b[38;5;28mself\u001b[39m\u001b[38;5;241m.\u001b[39mresult \u001b[38;5;241m=\u001b[39m testRunner\u001b[38;5;241m.\u001b[39mrun(\u001b[38;5;28mself\u001b[39m\u001b[38;5;241m.\u001b[39mtest)\n\u001b[0;32m    272\u001b[0m \u001b[38;5;28;01mif\u001b[39;00m \u001b[38;5;28mself\u001b[39m\u001b[38;5;241m.\u001b[39mexit:\n\u001b[1;32m--> 273\u001b[0m     \u001b[43msys\u001b[49m\u001b[38;5;241;43m.\u001b[39;49m\u001b[43mexit\u001b[49m\u001b[43m(\u001b[49m\u001b[38;5;129;43;01mnot\u001b[39;49;00m\u001b[43m \u001b[49m\u001b[38;5;28;43mself\u001b[39;49m\u001b[38;5;241;43m.\u001b[39;49m\u001b[43mresult\u001b[49m\u001b[38;5;241;43m.\u001b[39;49m\u001b[43mwasSuccessful\u001b[49m\u001b[43m(\u001b[49m\u001b[43m)\u001b[49m\u001b[43m)\u001b[49m\n",
      "\u001b[1;31mSystemExit\u001b[0m: True"
     ]
    },
    {
     "name": "stderr",
     "output_type": "stream",
     "text": [
      "c:\\Users\\roman\\anaconda3\\envs\\seghub_env\\lib\\site-packages\\IPython\\core\\interactiveshell.py:3013: UserWarning: Unknown failure executing module: <unittest>\n",
      "  warn('Unknown failure executing module: <%s>' % mod_name)\n"
     ]
    }
   ],
   "source": [
    "%run -m unittest test_util_funcs.py"
   ]
  }
 ],
 "metadata": {
  "kernelspec": {
   "display_name": "seghub_env",
   "language": "python",
   "name": "python3"
  },
  "language_info": {
   "codemirror_mode": {
    "name": "ipython",
    "version": 3
   },
   "file_extension": ".py",
   "mimetype": "text/x-python",
   "name": "python",
   "nbconvert_exporter": "python",
   "pygments_lexer": "ipython3",
   "version": "3.9.19"
  }
 },
 "nbformat": 4,
 "nbformat_minor": 2
}
